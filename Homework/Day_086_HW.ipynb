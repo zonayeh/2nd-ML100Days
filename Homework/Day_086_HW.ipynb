{
 "cells": [
  {
   "cell_type": "markdown",
   "metadata": {},
   "source": [
    "## Work\n",
    "1. 試比較 save_best_only 與否的差異\n",
    "2. 請僅存入將 save_weights_only 設定為 True, 並嘗試 reset ipynb 並將模型與權重重新建回並預測 x_test"
   ]
  },
  {
   "cell_type": "code",
   "execution_count": 1,
   "metadata": {},
   "outputs": [
    {
     "name": "stderr",
     "output_type": "stream",
     "text": [
      "Using TensorFlow backend.\n"
     ]
    }
   ],
   "source": [
    "import os\n",
    "import keras\n",
    "\n",
    "# Disable GPU\n",
    "os.environ[\"CUDA_VISIBLE_DEVICES\"] = \"0\""
   ]
  },
  {
   "cell_type": "code",
   "execution_count": 2,
   "metadata": {},
   "outputs": [],
   "source": [
    "train, test = keras.datasets.cifar10.load_data()"
   ]
  },
  {
   "cell_type": "code",
   "execution_count": 3,
   "metadata": {},
   "outputs": [],
   "source": [
    "## 資料前處理\n",
    "def preproc_x(x, flatten=True):\n",
    "    x = x / 255.\n",
    "    if flatten:\n",
    "        x = x.reshape((len(x), -1))\n",
    "    return x\n",
    "\n",
    "def preproc_y(y, num_classes=10):\n",
    "    if y.shape[-1] == 1:\n",
    "        y = keras.utils.to_categorical(y, num_classes)\n",
    "    return y    "
   ]
  },
  {
   "cell_type": "code",
   "execution_count": 4,
   "metadata": {},
   "outputs": [],
   "source": [
    "x_train, y_train = train\n",
    "x_test, y_test = test\n",
    "\n",
    "# Preproc the inputs\n",
    "x_train = preproc_x(x_train)\n",
    "x_test = preproc_x(x_test)\n",
    "\n",
    "# Preprc the outputs\n",
    "y_train = preproc_y(y_train)\n",
    "y_test = preproc_y(y_test)"
   ]
  },
  {
   "cell_type": "code",
   "execution_count": 5,
   "metadata": {},
   "outputs": [],
   "source": [
    "from keras.layers import BatchNormalization\n",
    "\n",
    "#建立神經網路\n",
    "def build_mlp(input_shape, output_units=10, num_neurons=[512, 256, 128]):\n",
    "    input_layer = keras.layers.Input(input_shape)\n",
    "    \n",
    "    for i, n_units in enumerate(num_neurons):\n",
    "        if i == 0:\n",
    "            x = keras.layers.Dense(units=n_units, \n",
    "                                   activation=\"relu\", \n",
    "                                   name=\"hidden_layer\"+str(i+1))(input_layer)\n",
    "            x = BatchNormalization()(x)\n",
    "        else:\n",
    "            x = keras.layers.Dense(units=n_units, \n",
    "                                   activation=\"relu\", \n",
    "                                   name=\"hidden_layer\"+str(i+1))(x)\n",
    "            x = BatchNormalization()(x)\n",
    "    \n",
    "    out = keras.layers.Dense(units=output_units, activation=\"softmax\", name=\"output\")(x)\n",
    "    \n",
    "    model = keras.models.Model(inputs=[input_layer], outputs=[out])\n",
    "    return model"
   ]
  },
  {
   "cell_type": "code",
   "execution_count": 6,
   "metadata": {},
   "outputs": [],
   "source": [
    "# 超參數設定\n",
    "LEARNING_RATE = 1e-3\n",
    "EPOCHS = 50\n",
    "BATCH_SIZE = 1024\n",
    "MOMENTUM = 0.95"
   ]
  },
  {
   "cell_type": "code",
   "execution_count": 7,
   "metadata": {},
   "outputs": [],
   "source": [
    "# 載入 Callbacks\n",
    "from keras.callbacks import ModelCheckpoint\n",
    "\n",
    "model_ckpt = ModelCheckpoint(filepath=\"./tmp.h5\", \n",
    "                             monitor=\"val_loss\", \n",
    "                             save_best_only=True)"
   ]
  },
  {
   "cell_type": "code",
   "execution_count": 8,
   "metadata": {},
   "outputs": [
    {
     "name": "stdout",
     "output_type": "stream",
     "text": [
      "WARNING:tensorflow:From C:\\Anaconda3\\lib\\site-packages\\tensorflow\\python\\framework\\op_def_library.py:263: colocate_with (from tensorflow.python.framework.ops) is deprecated and will be removed in a future version.\n",
      "Instructions for updating:\n",
      "Colocations handled automatically by placer.\n",
      "_________________________________________________________________\n",
      "Layer (type)                 Output Shape              Param #   \n",
      "=================================================================\n",
      "input_1 (InputLayer)         (None, 3072)              0         \n",
      "_________________________________________________________________\n",
      "hidden_layer1 (Dense)        (None, 512)               1573376   \n",
      "_________________________________________________________________\n",
      "batch_normalization_1 (Batch (None, 512)               2048      \n",
      "_________________________________________________________________\n",
      "hidden_layer2 (Dense)        (None, 256)               131328    \n",
      "_________________________________________________________________\n",
      "batch_normalization_2 (Batch (None, 256)               1024      \n",
      "_________________________________________________________________\n",
      "hidden_layer3 (Dense)        (None, 128)               32896     \n",
      "_________________________________________________________________\n",
      "batch_normalization_3 (Batch (None, 128)               512       \n",
      "_________________________________________________________________\n",
      "output (Dense)               (None, 10)                1290      \n",
      "=================================================================\n",
      "Total params: 1,742,474\n",
      "Trainable params: 1,740,682\n",
      "Non-trainable params: 1,792\n",
      "_________________________________________________________________\n",
      "WARNING:tensorflow:From C:\\Anaconda3\\lib\\site-packages\\tensorflow\\python\\ops\\math_ops.py:3066: to_int32 (from tensorflow.python.ops.math_ops) is deprecated and will be removed in a future version.\n",
      "Instructions for updating:\n",
      "Use tf.cast instead.\n",
      "Train on 50000 samples, validate on 10000 samples\n",
      "Epoch 1/50\n",
      "50000/50000 [==============================] - 22s 441us/step - loss: 2.2248 - acc: 0.2692 - val_loss: 2.0787 - val_acc: 0.3190\n",
      "Epoch 2/50\n",
      "50000/50000 [==============================] - 16s 316us/step - loss: 1.7580 - acc: 0.3914 - val_loss: 1.8221 - val_acc: 0.3782\n",
      "Epoch 3/50\n",
      "50000/50000 [==============================] - 15s 305us/step - loss: 1.6280 - acc: 0.4319 - val_loss: 1.7241 - val_acc: 0.4020\n",
      "Epoch 4/50\n",
      "50000/50000 [==============================] - 14s 281us/step - loss: 1.5535 - acc: 0.4549 - val_loss: 1.6441 - val_acc: 0.4264\n",
      "Epoch 5/50\n",
      "50000/50000 [==============================] - 15s 295us/step - loss: 1.4962 - acc: 0.4772 - val_loss: 1.5990 - val_acc: 0.4343\n",
      "Epoch 6/50\n",
      "50000/50000 [==============================] - 13s 252us/step - loss: 1.4499 - acc: 0.4933 - val_loss: 1.5721 - val_acc: 0.4456\n",
      "Epoch 7/50\n",
      "50000/50000 [==============================] - 12s 250us/step - loss: 1.4060 - acc: 0.5099 - val_loss: 1.5487 - val_acc: 0.4535\n",
      "Epoch 8/50\n",
      "50000/50000 [==============================] - 12s 236us/step - loss: 1.3714 - acc: 0.5201 - val_loss: 1.5311 - val_acc: 0.4562\n",
      "Epoch 9/50\n",
      "50000/50000 [==============================] - 12s 236us/step - loss: 1.3365 - acc: 0.5348 - val_loss: 1.5105 - val_acc: 0.4668\n",
      "Epoch 10/50\n",
      "50000/50000 [==============================] - 12s 231us/step - loss: 1.3072 - acc: 0.5441 - val_loss: 1.4999 - val_acc: 0.4711\n",
      "Epoch 11/50\n",
      "50000/50000 [==============================] - 12s 240us/step - loss: 1.2778 - acc: 0.5577 - val_loss: 1.5018 - val_acc: 0.4687\n",
      "Epoch 12/50\n",
      "50000/50000 [==============================] - 12s 233us/step - loss: 1.2505 - acc: 0.5660 - val_loss: 1.5043 - val_acc: 0.4721\n",
      "Epoch 13/50\n",
      "50000/50000 [==============================] - 12s 238us/step - loss: 1.2242 - acc: 0.5766 - val_loss: 1.4952 - val_acc: 0.4728\n",
      "Epoch 14/50\n",
      "50000/50000 [==============================] - 12s 232us/step - loss: 1.1988 - acc: 0.5857 - val_loss: 1.4799 - val_acc: 0.4779\n",
      "Epoch 15/50\n",
      "50000/50000 [==============================] - 12s 235us/step - loss: 1.1734 - acc: 0.5971 - val_loss: 1.4650 - val_acc: 0.4861\n",
      "Epoch 16/50\n",
      "50000/50000 [==============================] - 12s 236us/step - loss: 1.1504 - acc: 0.6051 - val_loss: 1.4644 - val_acc: 0.4845\n",
      "Epoch 17/50\n",
      "50000/50000 [==============================] - 12s 232us/step - loss: 1.1270 - acc: 0.6134 - val_loss: 1.4643 - val_acc: 0.4837\n",
      "Epoch 18/50\n",
      "50000/50000 [==============================] - 12s 235us/step - loss: 1.1035 - acc: 0.6223 - val_loss: 1.4695 - val_acc: 0.4832\n",
      "Epoch 19/50\n",
      "50000/50000 [==============================] - 12s 233us/step - loss: 1.0817 - acc: 0.6290 - val_loss: 1.4633 - val_acc: 0.4915\n",
      "Epoch 20/50\n",
      "50000/50000 [==============================] - 12s 239us/step - loss: 1.0603 - acc: 0.6385 - val_loss: 1.4667 - val_acc: 0.4902\n",
      "Epoch 21/50\n",
      "50000/50000 [==============================] - 11s 229us/step - loss: 1.0378 - acc: 0.6490 - val_loss: 1.4692 - val_acc: 0.4884\n",
      "Epoch 22/50\n",
      "50000/50000 [==============================] - 12s 240us/step - loss: 1.0163 - acc: 0.6570 - val_loss: 1.4626 - val_acc: 0.4907\n",
      "Epoch 23/50\n",
      "50000/50000 [==============================] - 12s 242us/step - loss: 0.9937 - acc: 0.6650 - val_loss: 1.4686 - val_acc: 0.4923\n",
      "Epoch 24/50\n",
      "50000/50000 [==============================] - 12s 249us/step - loss: 0.9740 - acc: 0.6708 - val_loss: 1.4676 - val_acc: 0.4911\n",
      "Epoch 25/50\n",
      "50000/50000 [==============================] - 17s 342us/step - loss: 0.9534 - acc: 0.6798 - val_loss: 1.4662 - val_acc: 0.4954\n",
      "Epoch 26/50\n",
      "50000/50000 [==============================] - 15s 300us/step - loss: 0.9329 - acc: 0.6874 - val_loss: 1.4692 - val_acc: 0.4956\n",
      "Epoch 27/50\n",
      "50000/50000 [==============================] - 14s 276us/step - loss: 0.9118 - acc: 0.6960 - val_loss: 1.4792 - val_acc: 0.4908\n",
      "Epoch 28/50\n",
      "50000/50000 [==============================] - 12s 235us/step - loss: 0.8913 - acc: 0.7045 - val_loss: 1.4937 - val_acc: 0.4885\n",
      "Epoch 29/50\n",
      "50000/50000 [==============================] - 21s 420us/step - loss: 0.8723 - acc: 0.7123 - val_loss: 1.4864 - val_acc: 0.4928\n",
      "Epoch 30/50\n",
      "50000/50000 [==============================] - 16s 312us/step - loss: 0.8539 - acc: 0.7181 - val_loss: 1.4877 - val_acc: 0.4915\n",
      "Epoch 31/50\n",
      "50000/50000 [==============================] - 12s 244us/step - loss: 0.8314 - acc: 0.7276 - val_loss: 1.5103 - val_acc: 0.4942\n",
      "Epoch 32/50\n",
      "50000/50000 [==============================] - 13s 260us/step - loss: 0.8134 - acc: 0.7356 - val_loss: 1.5096 - val_acc: 0.4917\n",
      "Epoch 33/50\n",
      "50000/50000 [==============================] - 12s 245us/step - loss: 0.7932 - acc: 0.7427 - val_loss: 1.5147 - val_acc: 0.4909\n",
      "Epoch 34/50\n",
      "50000/50000 [==============================] - 12s 245us/step - loss: 0.7747 - acc: 0.7504 - val_loss: 1.5424 - val_acc: 0.4906\n",
      "Epoch 35/50\n",
      "50000/50000 [==============================] - 13s 257us/step - loss: 0.7559 - acc: 0.7581 - val_loss: 1.5298 - val_acc: 0.4919\n",
      "Epoch 36/50\n",
      "50000/50000 [==============================] - 20s 392us/step - loss: 0.7371 - acc: 0.7658 - val_loss: 1.5557 - val_acc: 0.4848\n",
      "Epoch 37/50\n",
      "50000/50000 [==============================] - 22s 433us/step - loss: 0.7168 - acc: 0.7731 - val_loss: 1.5434 - val_acc: 0.4914\n",
      "Epoch 38/50\n",
      "50000/50000 [==============================] - 24s 484us/step - loss: 0.7009 - acc: 0.7793 - val_loss: 1.5660 - val_acc: 0.4853\n",
      "Epoch 39/50\n",
      "50000/50000 [==============================] - 14s 277us/step - loss: 0.6835 - acc: 0.7860 - val_loss: 1.5639 - val_acc: 0.4876\n",
      "Epoch 40/50\n",
      "50000/50000 [==============================] - 15s 292us/step - loss: 0.6640 - acc: 0.7946 - val_loss: 1.5949 - val_acc: 0.4852\n",
      "Epoch 41/50\n",
      "50000/50000 [==============================] - 15s 297us/step - loss: 0.6466 - acc: 0.8025 - val_loss: 1.5998 - val_acc: 0.4884\n",
      "Epoch 42/50\n",
      "50000/50000 [==============================] - 13s 265us/step - loss: 0.6286 - acc: 0.8074 - val_loss: 1.6090 - val_acc: 0.4836\n",
      "Epoch 43/50\n",
      "50000/50000 [==============================] - 14s 277us/step - loss: 0.6126 - acc: 0.8163 - val_loss: 1.6070 - val_acc: 0.4888\n",
      "Epoch 44/50\n",
      "50000/50000 [==============================] - 13s 260us/step - loss: 0.5943 - acc: 0.8227 - val_loss: 1.6209 - val_acc: 0.4848\n",
      "Epoch 45/50\n"
     ]
    },
    {
     "name": "stdout",
     "output_type": "stream",
     "text": [
      "50000/50000 [==============================] - 13s 262us/step - loss: 0.5769 - acc: 0.8285 - val_loss: 1.6299 - val_acc: 0.4834\n",
      "Epoch 46/50\n",
      "50000/50000 [==============================] - 16s 312us/step - loss: 0.5589 - acc: 0.8367 - val_loss: 1.6483 - val_acc: 0.4822\n",
      "Epoch 47/50\n",
      "50000/50000 [==============================] - 13s 263us/step - loss: 0.5412 - acc: 0.8433 - val_loss: 1.6567 - val_acc: 0.4803\n",
      "Epoch 48/50\n",
      "50000/50000 [==============================] - 13s 266us/step - loss: 0.5249 - acc: 0.8500 - val_loss: 1.6873 - val_acc: 0.4835\n",
      "Epoch 49/50\n",
      "50000/50000 [==============================] - 12s 242us/step - loss: 0.5094 - acc: 0.8553 - val_loss: 1.6853 - val_acc: 0.4783\n",
      "Epoch 50/50\n",
      "50000/50000 [==============================] - 13s 253us/step - loss: 0.4931 - acc: 0.8634 - val_loss: 1.7014 - val_acc: 0.4832\n",
      "10000/10000 [==============================] - 2s 209us/step\n"
     ]
    }
   ],
   "source": [
    "results = {}\n",
    "\n",
    "model = build_mlp(input_shape=x_train.shape[1:])\n",
    "model.summary()\n",
    "optimizer = keras.optimizers.SGD(lr=LEARNING_RATE, nesterov=True, momentum=MOMENTUM)\n",
    "model.compile(loss=\"categorical_crossentropy\", metrics=[\"accuracy\"], optimizer=optimizer)\n",
    "\n",
    "model.fit(x_train, y_train, \n",
    "          epochs=EPOCHS, \n",
    "          batch_size=BATCH_SIZE, \n",
    "          validation_data=(x_test, y_test), \n",
    "          shuffle=True,\n",
    "          callbacks=[model_ckpt]\n",
    "         )\n",
    "\n",
    "# Collect results\n",
    "train_loss = model.history.history[\"loss\"]\n",
    "valid_loss = model.history.history[\"val_loss\"]\n",
    "train_acc = model.history.history[\"acc\"]\n",
    "valid_acc = model.history.history[\"val_acc\"]\n",
    "\n",
    "# Load back\n",
    "model = keras.models.load_model(\"./tmp.h5\")\n",
    "loss_loadback, acc_loadback = model.evaluate(x_test, y_test)"
   ]
  },
  {
   "cell_type": "code",
   "execution_count": 9,
   "metadata": {
    "scrolled": true
   },
   "outputs": [
    {
     "data": {
      "image/png": "[encoded data removed]",
      "text/plain": [
       "<Figure size 432x288 with 1 Axes>"
      ]
     },
     "metadata": {
      "needs_background": "light"
     },
     "output_type": "display_data"
    },
    {
     "data": {
      "image/png": "[encoded data removed]",
      "text/plain": [
       "<Figure size 432x288 with 1 Axes>"
      ]
     },
     "metadata": {
      "needs_background": "light"
     },
     "output_type": "display_data"
    }
   ],
   "source": [
    "import matplotlib.pyplot as plt\n",
    "%matplotlib inline\n",
    "\"\"\"Code Here\n",
    "將結果繪出\n",
    "\"\"\"\n",
    "plt.plot(range(len(train_loss)), train_loss, label=\"train loss\")\n",
    "plt.plot(range(len(valid_loss)), valid_loss, label=\"valid loss\")\n",
    "plt.hlines(y=loss_loadback, xmin=0, xmax=len(train_loss), colors='r', linestyles='--')\n",
    "plt.legend()\n",
    "plt.title(\"Loss\")\n",
    "plt.show()\n",
    "\n",
    "plt.plot(range(len(train_acc)), train_acc, label=\"train accuracy\")\n",
    "plt.plot(range(len(valid_acc)), valid_acc, label=\"valid accuracy\")\n",
    "plt.hlines(y=acc_loadback, xmin=0, xmax=len(train_loss), colors='r', linestyles='--')\n",
    "plt.legend()\n",
    "plt.title(\"Accuracy\")\n",
    "plt.show()"
   ]
  },
  {
   "cell_type": "code",
   "execution_count": null,
   "metadata": {},
   "outputs": [],
   "source": []
  }
 ],
 "metadata": {
  "kernelspec": {
   "display_name": "Python 3",
   "language": "python",
   "name": "python3"
  },
  "language_info": {
   "codemirror_mode": {
    "name": "ipython",
    "version": 3
   },
   "file_extension": ".py",
   "mimetype": "text/x-python",
   "name": "python",
   "nbconvert_exporter": "python",
   "pygments_lexer": "ipython3",
   "version": "3.7.1"
  }
 },
 "nbformat": 4,
 "nbformat_minor": 2
}
