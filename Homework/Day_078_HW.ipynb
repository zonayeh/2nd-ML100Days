{
 "cells": [
  {
   "cell_type": "markdown",
   "metadata": {},
   "source": [
    "## Work\n",
    "1. 請嘗試將 preproc_x 替換成以每筆資料的 min/max 進行標準化至 -1 ~ 1 間，再進行訓練\n",
    "2. 請嘗試將 mlp 疊更深 (e.g 5~10 層)，進行訓練後觀察 learning curve 的走勢\n",
    "3. (optional) 請改用 GPU 進行訓練 (如果你有 GPU 的話)，比較使用 CPU 與 GPU 的訓練速度"
   ]
  },
  {
   "cell_type": "code",
   "execution_count": 1,
   "metadata": {},
   "outputs": [
    {
     "name": "stderr",
     "output_type": "stream",
     "text": [
      "'nvidia-smi' 不是內部或外部命令、可執行的程式或批次檔。\n"
     ]
    }
   ],
   "source": [
    "#確認硬體資源\n",
    "\n",
    "!nvidia-smi"
   ]
  },
  {
   "cell_type": "code",
   "execution_count": 1,
   "metadata": {},
   "outputs": [
    {
     "name": "stderr",
     "output_type": "stream",
     "text": [
      "Using TensorFlow backend.\n"
     ]
    }
   ],
   "source": [
    "import os\n",
    "import keras\n",
    "\n",
    "# 請嘗試設定 GPU：os.environ\n",
    "os.environ[\"CUDA_VISIBLE_DEVICES\"] = \"0\""
   ]
  },
  {
   "cell_type": "code",
   "execution_count": 2,
   "metadata": {},
   "outputs": [],
   "source": [
    "train, test = keras.datasets.cifar10.load_data()"
   ]
  },
  {
   "cell_type": "code",
   "execution_count": 3,
   "metadata": {},
   "outputs": [],
   "source": [
    "## 資料前處理\n",
    "\"\"\"\n",
    "Your code here\n",
    "\n",
    "def preproc_x():\n",
    "    pass\n",
    "\n",
    "def preproc_y():\n",
    "    pass\n",
    "\"\"\"\n",
    "def preproc_x(x, flatten=True):\n",
    "    x = x / 255.\n",
    "    if flatten:\n",
    "        x = x.reshape((len(x), -1))\n",
    "    return x\n",
    "\n",
    "def preproc_y(y, num_classes=10):\n",
    "    if y.shape[-1] == 1:\n",
    "        y = keras.utils.to_categorical(y, num_classes)\n",
    "    return y"
   ]
  },
  {
   "cell_type": "code",
   "execution_count": 4,
   "metadata": {},
   "outputs": [],
   "source": [
    "x_train, y_train = train\n",
    "x_test, y_test = test\n",
    "\n",
    "# Preproc the inputs\n",
    "x_train = preproc_x(x_train)\n",
    "x_test = preproc_x(x_test)\n",
    "\n",
    "# Preprc the outputs\n",
    "y_train = preproc_y(y_train)\n",
    "y_test = preproc_y(y_test)"
   ]
  },
  {
   "cell_type": "code",
   "execution_count": 5,
   "metadata": {},
   "outputs": [
    {
     "name": "stdout",
     "output_type": "stream",
     "text": [
      "WARNING:tensorflow:From C:\\Anaconda3\\lib\\site-packages\\tensorflow\\python\\framework\\op_def_library.py:263: colocate_with (from tensorflow.python.framework.ops) is deprecated and will be removed in a future version.\n",
      "Instructions for updating:\n",
      "Colocations handled automatically by placer.\n",
      "_________________________________________________________________\n",
      "Layer (type)                 Output Shape              Param #   \n",
      "=================================================================\n",
      "input_1 (InputLayer)         (None, 3072)              0         \n",
      "_________________________________________________________________\n",
      "hidden_layer1 (Dense)        (None, 512)               1573376   \n",
      "_________________________________________________________________\n",
      "hidden_layer2 (Dense)        (None, 256)               131328    \n",
      "_________________________________________________________________\n",
      "hidden_layer3 (Dense)        (None, 128)               32896     \n",
      "_________________________________________________________________\n",
      "output (Dense)               (None, 10)                1290      \n",
      "=================================================================\n",
      "Total params: 1,738,890\n",
      "Trainable params: 1,738,890\n",
      "Non-trainable params: 0\n",
      "_________________________________________________________________\n"
     ]
    }
   ],
   "source": [
    "\"\"\"Code Here\n",
    "建立你的神經網路\n",
    "\n",
    "def build_mlp():\n",
    "    pass\n",
    "\n",
    "model.summary()\n",
    "\"\"\"\n",
    "\n",
    "def build_mlp(input_shape, output_units=10, num_neurons=[512, 256, 128]):\n",
    "    input_layer = keras.layers.Input(input_shape)\n",
    "    \n",
    "    for i, n_units in enumerate(num_neurons):\n",
    "        if i == 0:\n",
    "            x = keras.layers.Dense(units=n_units, activation=\"relu\", name=\"hidden_layer\"+str(i+1))(input_layer)\n",
    "        else:\n",
    "            x = keras.layers.Dense(units=n_units, activation=\"relu\", name=\"hidden_layer\"+str(i+1))(x)\n",
    "    \n",
    "    out = keras.layers.Dense(units=output_units, activation=\"softmax\", name=\"output\")(x)\n",
    "    \n",
    "    model = keras.models.Model(inputs=[input_layer], outputs=[out])\n",
    "    return model\n",
    "\n",
    "model = build_mlp(input_shape=x_train.shape[1:])\n",
    "model.summary()"
   ]
  },
  {
   "cell_type": "code",
   "execution_count": 6,
   "metadata": {},
   "outputs": [],
   "source": [
    "## 超參數設定\n",
    "LEARNING_RATE = 0.001\n",
    "EPOCHS = 100\n",
    "BATCH_SIZE = 256"
   ]
  },
  {
   "cell_type": "code",
   "execution_count": 7,
   "metadata": {},
   "outputs": [],
   "source": [
    "optimizer = keras.optimizers.Adam(lr=LEARNING_RATE)\n",
    "model.compile(loss=\"categorical_crossentropy\", metrics=[\"accuracy\"], optimizer=optimizer)"
   ]
  },
  {
   "cell_type": "code",
   "execution_count": 8,
   "metadata": {},
   "outputs": [
    {
     "name": "stdout",
     "output_type": "stream",
     "text": [
      "WARNING:tensorflow:From C:\\Anaconda3\\lib\\site-packages\\tensorflow\\python\\ops\\math_ops.py:3066: to_int32 (from tensorflow.python.ops.math_ops) is deprecated and will be removed in a future version.\n",
      "Instructions for updating:\n",
      "Use tf.cast instead.\n",
      "Train on 50000 samples, validate on 10000 samples\n",
      "Epoch 1/100\n",
      "50000/50000 [==============================] - 18s 358us/step - loss: 1.9376 - acc: 0.3000 - val_loss: 1.7858 - val_acc: 0.3561\n",
      "Epoch 2/100\n",
      "50000/50000 [==============================] - 15s 294us/step - loss: 1.7018 - acc: 0.3916 - val_loss: 1.6867 - val_acc: 0.4115\n",
      "Epoch 3/100\n",
      "50000/50000 [==============================] - 16s 314us/step - loss: 1.6226 - acc: 0.4194 - val_loss: 1.5863 - val_acc: 0.4380\n",
      "Epoch 4/100\n",
      "50000/50000 [==============================] - 16s 315us/step - loss: 1.5461 - acc: 0.4483 - val_loss: 1.5162 - val_acc: 0.4635\n",
      "Epoch 5/100\n",
      "50000/50000 [==============================] - 17s 334us/step - loss: 1.5011 - acc: 0.4637 - val_loss: 1.5191 - val_acc: 0.4680\n",
      "Epoch 6/100\n",
      "50000/50000 [==============================] - 20s 409us/step - loss: 1.4613 - acc: 0.4779 - val_loss: 1.5068 - val_acc: 0.4682\n",
      "Epoch 7/100\n",
      "50000/50000 [==============================] - 21s 427us/step - loss: 1.4292 - acc: 0.4901 - val_loss: 1.4565 - val_acc: 0.4862\n",
      "Epoch 8/100\n",
      "50000/50000 [==============================] - 18s 361us/step - loss: 1.3991 - acc: 0.5014 - val_loss: 1.4409 - val_acc: 0.4913\n",
      "Epoch 9/100\n",
      "50000/50000 [==============================] - 17s 346us/step - loss: 1.3705 - acc: 0.5148 - val_loss: 1.4437 - val_acc: 0.4854\n",
      "Epoch 10/100\n",
      "50000/50000 [==============================] - 17s 342us/step - loss: 1.3434 - acc: 0.5194 - val_loss: 1.4388 - val_acc: 0.4903\n",
      "Epoch 11/100\n",
      "50000/50000 [==============================] - 17s 348us/step - loss: 1.3157 - acc: 0.5328 - val_loss: 1.3829 - val_acc: 0.5125\n",
      "Epoch 12/100\n",
      "50000/50000 [==============================] - 17s 344us/step - loss: 1.2902 - acc: 0.5404 - val_loss: 1.4105 - val_acc: 0.4926\n",
      "Epoch 13/100\n",
      "50000/50000 [==============================] - 17s 346us/step - loss: 1.2737 - acc: 0.5470 - val_loss: 1.4008 - val_acc: 0.5023\n",
      "Epoch 14/100\n",
      "50000/50000 [==============================] - 18s 361us/step - loss: 1.2356 - acc: 0.5595 - val_loss: 1.4492 - val_acc: 0.4919\n",
      "Epoch 15/100\n",
      "50000/50000 [==============================] - 18s 355us/step - loss: 1.2285 - acc: 0.5635 - val_loss: 1.3805 - val_acc: 0.5107\n",
      "Epoch 16/100\n",
      "50000/50000 [==============================] - 18s 356us/step - loss: 1.1987 - acc: 0.5740 - val_loss: 1.3725 - val_acc: 0.5225\n",
      "Epoch 17/100\n",
      "50000/50000 [==============================] - 18s 367us/step - loss: 1.1812 - acc: 0.5819 - val_loss: 1.4285 - val_acc: 0.5022\n",
      "Epoch 18/100\n",
      "50000/50000 [==============================] - 19s 376us/step - loss: 1.1661 - acc: 0.5843 - val_loss: 1.4028 - val_acc: 0.5114\n",
      "Epoch 19/100\n",
      "50000/50000 [==============================] - 19s 374us/step - loss: 1.1405 - acc: 0.5936 - val_loss: 1.3974 - val_acc: 0.5148\n",
      "Epoch 20/100\n",
      "50000/50000 [==============================] - 18s 369us/step - loss: 1.1187 - acc: 0.6019 - val_loss: 1.3481 - val_acc: 0.5303\n",
      "Epoch 21/100\n",
      "50000/50000 [==============================] - 19s 373us/step - loss: 1.1099 - acc: 0.6042 - val_loss: 1.3987 - val_acc: 0.5180\n",
      "Epoch 22/100\n",
      "50000/50000 [==============================] - 18s 369us/step - loss: 1.0834 - acc: 0.6169 - val_loss: 1.3654 - val_acc: 0.5348\n",
      "Epoch 23/100\n",
      "50000/50000 [==============================] - 19s 374us/step - loss: 1.0624 - acc: 0.6226 - val_loss: 1.3786 - val_acc: 0.5281\n",
      "Epoch 24/100\n",
      "50000/50000 [==============================] - 19s 382us/step - loss: 1.0458 - acc: 0.6280 - val_loss: 1.3835 - val_acc: 0.5255\n",
      "Epoch 25/100\n",
      "50000/50000 [==============================] - 19s 374us/step - loss: 1.0265 - acc: 0.6350 - val_loss: 1.3833 - val_acc: 0.5276\n",
      "Epoch 26/100\n",
      "50000/50000 [==============================] - 19s 379us/step - loss: 1.0134 - acc: 0.6396 - val_loss: 1.4367 - val_acc: 0.5171\n",
      "Epoch 27/100\n",
      "50000/50000 [==============================] - 19s 380us/step - loss: 0.9898 - acc: 0.6476 - val_loss: 1.4020 - val_acc: 0.5255\n",
      "Epoch 28/100\n",
      "50000/50000 [==============================] - 19s 377us/step - loss: 0.9691 - acc: 0.6577 - val_loss: 1.4210 - val_acc: 0.5161\n",
      "Epoch 29/100\n",
      "50000/50000 [==============================] - 19s 382us/step - loss: 0.9641 - acc: 0.6554 - val_loss: 1.4262 - val_acc: 0.5188\n",
      "Epoch 30/100\n",
      "50000/50000 [==============================] - 19s 385us/step - loss: 0.9486 - acc: 0.6615 - val_loss: 1.4444 - val_acc: 0.5208\n",
      "Epoch 31/100\n",
      "50000/50000 [==============================] - 20s 408us/step - loss: 0.9233 - acc: 0.6697 - val_loss: 1.4835 - val_acc: 0.5152\n",
      "Epoch 32/100\n",
      "50000/50000 [==============================] - 21s 420us/step - loss: 0.9104 - acc: 0.6737 - val_loss: 1.5018 - val_acc: 0.5158\n",
      "Epoch 33/100\n",
      "50000/50000 [==============================] - 19s 384us/step - loss: 0.8873 - acc: 0.6829 - val_loss: 1.4763 - val_acc: 0.5217\n",
      "Epoch 34/100\n",
      "50000/50000 [==============================] - 19s 378us/step - loss: 0.8712 - acc: 0.6875 - val_loss: 1.4512 - val_acc: 0.5320\n",
      "Epoch 35/100\n",
      "50000/50000 [==============================] - 19s 379us/step - loss: 0.8553 - acc: 0.6952 - val_loss: 1.5040 - val_acc: 0.5234\n",
      "Epoch 36/100\n",
      "50000/50000 [==============================] - 19s 386us/step - loss: 0.8457 - acc: 0.6978 - val_loss: 1.4802 - val_acc: 0.5270\n",
      "Epoch 37/100\n",
      "50000/50000 [==============================] - 19s 389us/step - loss: 0.8159 - acc: 0.7106 - val_loss: 1.5092 - val_acc: 0.5252\n",
      "Epoch 38/100\n",
      "50000/50000 [==============================] - 19s 387us/step - loss: 0.8113 - acc: 0.7095 - val_loss: 1.5300 - val_acc: 0.5239\n",
      "Epoch 39/100\n",
      "50000/50000 [==============================] - 20s 396us/step - loss: 0.7937 - acc: 0.7155 - val_loss: 1.5857 - val_acc: 0.5179\n",
      "Epoch 40/100\n",
      "50000/50000 [==============================] - 19s 379us/step - loss: 0.7844 - acc: 0.7212 - val_loss: 1.5760 - val_acc: 0.5189\n",
      "Epoch 41/100\n",
      "50000/50000 [==============================] - 20s 400us/step - loss: 0.7637 - acc: 0.7263 - val_loss: 1.6313 - val_acc: 0.5234\n",
      "Epoch 42/100\n",
      "50000/50000 [==============================] - 20s 394us/step - loss: 0.7511 - acc: 0.7318 - val_loss: 1.6014 - val_acc: 0.5241\n",
      "Epoch 43/100\n",
      "50000/50000 [==============================] - 19s 385us/step - loss: 0.7294 - acc: 0.7392 - val_loss: 1.6087 - val_acc: 0.5207\n",
      "Epoch 44/100\n",
      "50000/50000 [==============================] - 19s 380us/step - loss: 0.7190 - acc: 0.7438 - val_loss: 1.6444 - val_acc: 0.5204\n",
      "Epoch 45/100\n",
      "50000/50000 [==============================] - 19s 380us/step - loss: 0.7143 - acc: 0.7437 - val_loss: 1.6279 - val_acc: 0.5206\n",
      "Epoch 46/100\n",
      "50000/50000 [==============================] - 19s 384us/step - loss: 0.6895 - acc: 0.7542 - val_loss: 1.6409 - val_acc: 0.5196\n",
      "Epoch 47/100\n",
      "50000/50000 [==============================] - 19s 379us/step - loss: 0.6737 - acc: 0.7581 - val_loss: 1.6798 - val_acc: 0.5169\n",
      "Epoch 48/100\n",
      "50000/50000 [==============================] - 19s 380us/step - loss: 0.6775 - acc: 0.7590 - val_loss: 1.6986 - val_acc: 0.5253\n",
      "Epoch 49/100\n",
      "50000/50000 [==============================] - 19s 387us/step - loss: 0.6455 - acc: 0.7689 - val_loss: 1.7813 - val_acc: 0.5159\n",
      "Epoch 50/100\n",
      "50000/50000 [==============================] - 19s 387us/step - loss: 0.6412 - acc: 0.7715 - val_loss: 1.7741 - val_acc: 0.5102\n",
      "Epoch 51/100\n",
      "50000/50000 [==============================] - 20s 392us/step - loss: 0.6177 - acc: 0.7795 - val_loss: 1.8067 - val_acc: 0.5156\n",
      "Epoch 52/100\n",
      "50000/50000 [==============================] - 20s 395us/step - loss: 0.6213 - acc: 0.7788 - val_loss: 1.8072 - val_acc: 0.5243\n",
      "Epoch 53/100\n",
      "50000/50000 [==============================] - 19s 384us/step - loss: 0.5938 - acc: 0.7887 - val_loss: 1.8890 - val_acc: 0.5039\n",
      "Epoch 54/100\n",
      "50000/50000 [==============================] - 19s 382us/step - loss: 0.6053 - acc: 0.7822 - val_loss: 1.8745 - val_acc: 0.5191\n",
      "Epoch 55/100\n",
      "50000/50000 [==============================] - 20s 399us/step - loss: 0.5713 - acc: 0.7974 - val_loss: 1.8351 - val_acc: 0.5228\n",
      "Epoch 56/100\n",
      "50000/50000 [==============================] - 20s 404us/step - loss: 0.5667 - acc: 0.7969 - val_loss: 1.9534 - val_acc: 0.5094\n",
      "Epoch 57/100\n"
     ]
    },
    {
     "name": "stdout",
     "output_type": "stream",
     "text": [
      "50000/50000 [==============================] - 17s 347us/step - loss: 0.5596 - acc: 0.8000 - val_loss: 1.9651 - val_acc: 0.5093\n",
      "Epoch 58/100\n",
      "50000/50000 [==============================] - 18s 352us/step - loss: 0.5410 - acc: 0.8047 - val_loss: 1.9789 - val_acc: 0.5102\n",
      "Epoch 59/100\n",
      "50000/50000 [==============================] - 18s 352us/step - loss: 0.5370 - acc: 0.8075 - val_loss: 2.0402 - val_acc: 0.5202\n",
      "Epoch 60/100\n",
      "50000/50000 [==============================] - 18s 351us/step - loss: 0.5254 - acc: 0.8125 - val_loss: 2.0895 - val_acc: 0.5062\n",
      "Epoch 61/100\n",
      "50000/50000 [==============================] - 18s 351us/step - loss: 0.5353 - acc: 0.8081 - val_loss: 2.0603 - val_acc: 0.5082\n",
      "Epoch 62/100\n",
      "50000/50000 [==============================] - 18s 354us/step - loss: 0.5174 - acc: 0.8156 - val_loss: 2.0206 - val_acc: 0.5113\n",
      "Epoch 63/100\n",
      "50000/50000 [==============================] - 18s 355us/step - loss: 0.5203 - acc: 0.8129 - val_loss: 2.0916 - val_acc: 0.5071\n",
      "Epoch 64/100\n",
      "50000/50000 [==============================] - 18s 360us/step - loss: 0.5002 - acc: 0.8196 - val_loss: 2.0995 - val_acc: 0.5075\n",
      "Epoch 65/100\n",
      "50000/50000 [==============================] - 18s 365us/step - loss: 0.4821 - acc: 0.8272 - val_loss: 2.1474 - val_acc: 0.5015\n",
      "Epoch 66/100\n",
      "50000/50000 [==============================] - 17s 348us/step - loss: 0.4782 - acc: 0.8296 - val_loss: 2.2040 - val_acc: 0.5095\n",
      "Epoch 67/100\n",
      "50000/50000 [==============================] - 18s 356us/step - loss: 0.4733 - acc: 0.8300 - val_loss: 2.2264 - val_acc: 0.5068\n",
      "Epoch 68/100\n",
      "50000/50000 [==============================] - 18s 351us/step - loss: 0.4646 - acc: 0.8341 - val_loss: 2.2526 - val_acc: 0.5046\n",
      "Epoch 69/100\n",
      "50000/50000 [==============================] - 18s 364us/step - loss: 0.4598 - acc: 0.8339 - val_loss: 2.2594 - val_acc: 0.5107\n",
      "Epoch 70/100\n",
      "50000/50000 [==============================] - 18s 352us/step - loss: 0.4662 - acc: 0.8326 - val_loss: 2.2407 - val_acc: 0.5106\n",
      "Epoch 71/100\n",
      "50000/50000 [==============================] - 18s 358us/step - loss: 0.4422 - acc: 0.8413 - val_loss: 2.3466 - val_acc: 0.5065\n",
      "Epoch 72/100\n",
      "50000/50000 [==============================] - 18s 357us/step - loss: 0.4446 - acc: 0.8394 - val_loss: 2.3164 - val_acc: 0.5122\n",
      "Epoch 73/100\n",
      "50000/50000 [==============================] - 18s 364us/step - loss: 0.4063 - acc: 0.8557 - val_loss: 2.3505 - val_acc: 0.5055\n",
      "Epoch 74/100\n",
      "50000/50000 [==============================] - 18s 366us/step - loss: 0.4299 - acc: 0.8450 - val_loss: 2.3739 - val_acc: 0.5088\n",
      "Epoch 75/100\n",
      "50000/50000 [==============================] - 18s 365us/step - loss: 0.4189 - acc: 0.8498 - val_loss: 2.4391 - val_acc: 0.5067\n",
      "Epoch 76/100\n",
      "50000/50000 [==============================] - 18s 362us/step - loss: 0.4041 - acc: 0.8569 - val_loss: 2.3829 - val_acc: 0.5086\n",
      "Epoch 77/100\n",
      "50000/50000 [==============================] - 18s 356us/step - loss: 0.3880 - acc: 0.8609 - val_loss: 2.5000 - val_acc: 0.5074\n",
      "Epoch 78/100\n",
      "50000/50000 [==============================] - 19s 372us/step - loss: 0.4048 - acc: 0.8542 - val_loss: 2.4285 - val_acc: 0.5061\n",
      "Epoch 79/100\n",
      "50000/50000 [==============================] - 18s 359us/step - loss: 0.3848 - acc: 0.8626 - val_loss: 2.5159 - val_acc: 0.5037\n",
      "Epoch 80/100\n",
      "50000/50000 [==============================] - 18s 369us/step - loss: 0.3679 - acc: 0.8696 - val_loss: 2.5786 - val_acc: 0.5094\n",
      "Epoch 81/100\n",
      "50000/50000 [==============================] - 18s 370us/step - loss: 0.3893 - acc: 0.8602 - val_loss: 2.5466 - val_acc: 0.5057\n",
      "Epoch 82/100\n",
      "50000/50000 [==============================] - 19s 378us/step - loss: 0.3589 - acc: 0.8709 - val_loss: 2.5888 - val_acc: 0.5057\n",
      "Epoch 83/100\n",
      "50000/50000 [==============================] - 18s 363us/step - loss: 0.3531 - acc: 0.8731 - val_loss: 2.6395 - val_acc: 0.5018\n",
      "Epoch 84/100\n",
      "50000/50000 [==============================] - 19s 372us/step - loss: 0.3512 - acc: 0.8758 - val_loss: 2.7529 - val_acc: 0.4963\n",
      "Epoch 85/100\n",
      "50000/50000 [==============================] - 18s 364us/step - loss: 0.3583 - acc: 0.8694 - val_loss: 2.7170 - val_acc: 0.4967\n",
      "Epoch 86/100\n",
      "50000/50000 [==============================] - 19s 383us/step - loss: 0.3753 - acc: 0.8644 - val_loss: 2.7245 - val_acc: 0.5018\n",
      "Epoch 87/100\n",
      "50000/50000 [==============================] - 19s 378us/step - loss: 0.3519 - acc: 0.8735 - val_loss: 2.7582 - val_acc: 0.5017\n",
      "Epoch 88/100\n",
      "50000/50000 [==============================] - 18s 353us/step - loss: 0.3323 - acc: 0.8813 - val_loss: 2.7717 - val_acc: 0.5008\n",
      "Epoch 89/100\n",
      "50000/50000 [==============================] - 17s 344us/step - loss: 0.3300 - acc: 0.8809 - val_loss: 2.7813 - val_acc: 0.5004\n",
      "Epoch 90/100\n",
      "50000/50000 [==============================] - 17s 338us/step - loss: 0.3288 - acc: 0.8821 - val_loss: 2.8050 - val_acc: 0.5025 0.3292 - acc:\n",
      "Epoch 91/100\n",
      "50000/50000 [==============================] - 17s 342us/step - loss: 0.3123 - acc: 0.8873 - val_loss: 2.8374 - val_acc: 0.5032\n",
      "Epoch 92/100\n",
      "50000/50000 [==============================] - 17s 341us/step - loss: 0.3015 - acc: 0.8924 - val_loss: 2.8663 - val_acc: 0.5006\n",
      "Epoch 93/100\n",
      "50000/50000 [==============================] - 18s 352us/step - loss: 0.3221 - acc: 0.8837 - val_loss: 2.9674 - val_acc: 0.4992\n",
      "Epoch 94/100\n",
      "50000/50000 [==============================] - 17s 344us/step - loss: 0.3144 - acc: 0.8885 - val_loss: 2.9145 - val_acc: 0.5020\n",
      "Epoch 95/100\n",
      "50000/50000 [==============================] - 17s 346us/step - loss: 0.3053 - acc: 0.8905 - val_loss: 2.9606 - val_acc: 0.4938\n",
      "Epoch 96/100\n",
      "50000/50000 [==============================] - 17s 343us/step - loss: 0.3217 - acc: 0.8833 - val_loss: 2.9503 - val_acc: 0.4939\n",
      "Epoch 97/100\n",
      "50000/50000 [==============================] - 17s 344us/step - loss: 0.3083 - acc: 0.8885 - val_loss: 2.9649 - val_acc: 0.4979\n",
      "Epoch 98/100\n",
      "50000/50000 [==============================] - 18s 354us/step - loss: 0.2900 - acc: 0.8966 - val_loss: 3.0315 - val_acc: 0.4999\n",
      "Epoch 99/100\n",
      "50000/50000 [==============================] - 20s 395us/step - loss: 0.2938 - acc: 0.8951 - val_loss: 3.0287 - val_acc: 0.4999\n",
      "Epoch 100/100\n",
      "50000/50000 [==============================] - 19s 388us/step - loss: 0.2990 - acc: 0.8921 - val_loss: 3.0323 - val_acc: 0.4958\n"
     ]
    },
    {
     "data": {
      "text/plain": [
       "<keras.callbacks.History at 0x93497f9d68>"
      ]
     },
     "execution_count": 8,
     "metadata": {},
     "output_type": "execute_result"
    }
   ],
   "source": [
    "model.fit(x_train, y_train, \n",
    "          epochs=EPOCHS, \n",
    "          batch_size=BATCH_SIZE, \n",
    "          validation_data=(x_test, y_test), \n",
    "          shuffle=True)"
   ]
  },
  {
   "cell_type": "code",
   "execution_count": 10,
   "metadata": {},
   "outputs": [
    {
     "data": {
      "image/png": "[encoded data removed]",
      "text/plain": [
       "<Figure size 432x288 with 1 Axes>"
      ]
     },
     "metadata": {
      "needs_background": "light"
     },
     "output_type": "display_data"
    },
    {
     "data": {
      "image/png": "[encoded data removed]",
      "text/plain": [
       "<Figure size 432x288 with 1 Axes>"
      ]
     },
     "metadata": {
      "needs_background": "light"
     },
     "output_type": "display_data"
    }
   ],
   "source": [
    "import matplotlib.pyplot as plt\n",
    "\n",
    "\n",
    "train_loss = model.history.history[\"loss\"]\n",
    "valid_loss = model.history.history[\"val_loss\"]\n",
    "\n",
    "train_acc = model.history.history[\"acc\"]\n",
    "valid_acc = model.history.history[\"val_acc\"]\n",
    "\n",
    "plt.plot(range(len(train_loss)), train_loss, label=\"train loss\")\n",
    "plt.plot(range(len(valid_loss)), valid_loss, label=\"valid loss\")\n",
    "plt.legend()\n",
    "plt.title(\"Loss\")\n",
    "plt.show()\n",
    "\n",
    "plt.plot(range(len(train_acc)), train_acc, label=\"train accuracy\")\n",
    "plt.plot(range(len(valid_acc)), valid_acc, label=\"valid accuracy\")\n",
    "plt.legend()\n",
    "plt.title(\"Accuracy\")\n",
    "plt.show()"
   ]
  },
  {
   "cell_type": "code",
   "execution_count": null,
   "metadata": {},
   "outputs": [],
   "source": []
  }
 ],
 "metadata": {
  "kernelspec": {
   "display_name": "Python 3",
   "language": "python",
   "name": "python3"
  },
  "language_info": {
   "codemirror_mode": {
    "name": "ipython",
    "version": 3
   },
   "file_extension": ".py",
   "mimetype": "text/x-python",
   "name": "python",
   "nbconvert_exporter": "python",
   "pygments_lexer": "ipython3",
   "version": "3.7.1"
  }
 },
 "nbformat": 4,
 "nbformat_minor": 2
}
