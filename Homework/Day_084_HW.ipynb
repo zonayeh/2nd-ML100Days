{
 "cells": [
  {
   "cell_type": "markdown",
   "metadata": {},
   "source": [
    "## Work\n",
    "### 請結合前面的知識與程式碼，比較不同的 regularization 的組合對訓練的結果與影響：如 dropout, regularizers, batch-normalization 等"
   ]
  },
  {
   "cell_type": "code",
   "execution_count": 1,
   "metadata": {},
   "outputs": [
    {
     "name": "stderr",
     "output_type": "stream",
     "text": [
      "Using TensorFlow backend.\n"
     ]
    }
   ],
   "source": [
    "import os\n",
    "import keras\n",
    "import itertools\n",
    "# Disable GPU\n",
    "os.environ[\"CUDA_VISIBLE_DEVICES\"] = \"0\""
   ]
  },
  {
   "cell_type": "code",
   "execution_count": 2,
   "metadata": {},
   "outputs": [],
   "source": [
    "train, test = keras.datasets.cifar10.load_data()"
   ]
  },
  {
   "cell_type": "code",
   "execution_count": 3,
   "metadata": {},
   "outputs": [],
   "source": [
    "## 資料前處理\n",
    "def preproc_x(x, flatten=True):\n",
    "    x = x / 255.\n",
    "    if flatten:\n",
    "        x = x.reshape((len(x), -1))\n",
    "    return x\n",
    "\n",
    "def preproc_y(y, num_classes=10):\n",
    "    if y.shape[-1] == 1:\n",
    "        y = keras.utils.to_categorical(y, num_classes)\n",
    "    return y    "
   ]
  },
  {
   "cell_type": "code",
   "execution_count": 4,
   "metadata": {},
   "outputs": [],
   "source": [
    "x_train, y_train = train\n",
    "x_test, y_test = test\n",
    "\n",
    "# Preproc the inputs\n",
    "x_train = preproc_x(x_train)\n",
    "x_test = preproc_x(x_test)\n",
    "\n",
    "# Preprc the outputs\n",
    "y_train = preproc_y(y_train)\n",
    "y_test = preproc_y(y_test)"
   ]
  },
  {
   "cell_type": "code",
   "execution_count": 5,
   "metadata": {},
   "outputs": [],
   "source": [
    "from keras.regularizers import l1_l2\n",
    "\n",
    "#建立神經網路\n",
    "def build_mlp(input_shape, output_units=10, num_neurons=[512, 256, 128], l1_alpha=0.01, l2_alpha=0.01, drp_ratio=0.2):\n",
    "    input_layer = keras.layers.Input(input_shape)\n",
    "    x = keras.layers.BatchNormalization()(input_layer)\n",
    "    \n",
    "    for i, n_units in enumerate(num_neurons):\n",
    "        if i == 0:\n",
    "            x = keras.layers.Dense(units=n_units, \n",
    "                                   activation=\"relu\",\n",
    "                                   kernel_regularizer=l1_l2(l1=l1_alpha, l2=l2_alpha))(x)\n",
    "        else:\n",
    "            x = keras.layers.Dense(units=n_units, \n",
    "                                   activation=\"relu\",\n",
    "                                   kernel_regularizer=l1_l2(l1=l1_alpha, l2=l2_alpha))(x)\n",
    "        x = keras.layers.Dropout(drp_ratio)(x)\n",
    "        x = keras.layers.BatchNormalization()(x)\n",
    "    \n",
    "    out = keras.layers.Dense(units=output_units, activation=\"softmax\", name=\"output\")(x)\n",
    "    \n",
    "    model = keras.models.Model(inputs=[input_layer], outputs=[out])\n",
    "    return model"
   ]
  },
  {
   "cell_type": "code",
   "execution_count": 6,
   "metadata": {},
   "outputs": [],
   "source": [
    "#設定超參數\n",
    "LEARNING_RATE = 1e-3\n",
    "EPOCHS = 50\n",
    "BATCH_SIZE = [512]\n",
    "MOMENTUM = 0.95"
   ]
  },
  {
   "cell_type": "code",
   "execution_count": 7,
   "metadata": {
    "scrolled": true
   },
   "outputs": [
    {
     "name": "stdout",
     "output_type": "stream",
     "text": [
      "WARNING:tensorflow:From C:\\Anaconda3\\lib\\site-packages\\tensorflow\\python\\framework\\op_def_library.py:263: colocate_with (from tensorflow.python.framework.ops) is deprecated and will be removed in a future version.\n",
      "Instructions for updating:\n",
      "Colocations handled automatically by placer.\n",
      "WARNING:tensorflow:From C:\\Anaconda3\\lib\\site-packages\\keras\\backend\\tensorflow_backend.py:3445: calling dropout (from tensorflow.python.ops.nn_ops) with keep_prob is deprecated and will be removed in a future version.\n",
      "Instructions for updating:\n",
      "Please use `rate` instead of `keep_prob`. Rate should be set to `rate = 1 - keep_prob`.\n",
      "_________________________________________________________________\n",
      "Layer (type)                 Output Shape              Param #   \n",
      "=================================================================\n",
      "input_1 (InputLayer)         (None, 3072)              0         \n",
      "_________________________________________________________________\n",
      "batch_normalization_1 (Batch (None, 3072)              12288     \n",
      "_________________________________________________________________\n",
      "dense_1 (Dense)              (None, 512)               1573376   \n",
      "_________________________________________________________________\n",
      "dropout_1 (Dropout)          (None, 512)               0         \n",
      "_________________________________________________________________\n",
      "batch_normalization_2 (Batch (None, 512)               2048      \n",
      "_________________________________________________________________\n",
      "dense_2 (Dense)              (None, 256)               131328    \n",
      "_________________________________________________________________\n",
      "dropout_2 (Dropout)          (None, 256)               0         \n",
      "_________________________________________________________________\n",
      "batch_normalization_3 (Batch (None, 256)               1024      \n",
      "_________________________________________________________________\n",
      "dense_3 (Dense)              (None, 128)               32896     \n",
      "_________________________________________________________________\n",
      "dropout_3 (Dropout)          (None, 128)               0         \n",
      "_________________________________________________________________\n",
      "batch_normalization_4 (Batch (None, 128)               512       \n",
      "_________________________________________________________________\n",
      "output (Dense)               (None, 10)                1290      \n",
      "=================================================================\n",
      "Total params: 1,754,762\n",
      "Trainable params: 1,746,826\n",
      "Non-trainable params: 7,936\n",
      "_________________________________________________________________\n",
      "WARNING:tensorflow:From C:\\Anaconda3\\lib\\site-packages\\tensorflow\\python\\ops\\math_ops.py:3066: to_int32 (from tensorflow.python.ops.math_ops) is deprecated and will be removed in a future version.\n",
      "Instructions for updating:\n",
      "Use tf.cast instead.\n",
      "Train on 50000 samples, validate on 10000 samples\n",
      "Epoch 1/50\n",
      "50000/50000 [==============================] - 31s 617us/step - loss: 19.1809 - acc: 0.3172 - val_loss: 7.6898 - val_acc: 0.3126\n",
      "Epoch 2/50\n",
      "50000/50000 [==============================] - 19s 387us/step - loss: 6.1150 - acc: 0.3368 - val_loss: 5.0068 - val_acc: 0.3554\n",
      "Epoch 3/50\n",
      "50000/50000 [==============================] - 20s 393us/step - loss: 4.2727 - acc: 0.3629 - val_loss: 4.0430 - val_acc: 0.3721\n",
      "Epoch 4/50\n",
      "50000/50000 [==============================] - 20s 404us/step - loss: 3.6125 - acc: 0.3774 - val_loss: 3.6273 - val_acc: 0.3688\n",
      "Epoch 5/50\n",
      "50000/50000 [==============================] - 32s 639us/step - loss: 3.3949 - acc: 0.3782 - val_loss: 3.3913 - val_acc: 0.3894\n",
      "Epoch 6/50\n",
      "50000/50000 [==============================] - 23s 469us/step - loss: 3.2601 - acc: 0.3875 - val_loss: 3.2344 - val_acc: 0.4104\n",
      "Epoch 7/50\n",
      "50000/50000 [==============================] - 24s 486us/step - loss: 3.1935 - acc: 0.3919 - val_loss: 3.1356 - val_acc: 0.4237\n",
      "Epoch 8/50\n",
      "50000/50000 [==============================] - 26s 528us/step - loss: 3.1451 - acc: 0.3950 - val_loss: 3.0646 - val_acc: 0.4057\n",
      "Epoch 9/50\n",
      "50000/50000 [==============================] - 24s 473us/step - loss: 3.0921 - acc: 0.3983 - val_loss: 3.0424 - val_acc: 0.4197\n",
      "Epoch 10/50\n",
      "50000/50000 [==============================] - 24s 479us/step - loss: 3.0887 - acc: 0.4005 - val_loss: 3.0750 - val_acc: 0.4037\n",
      "Epoch 11/50\n",
      "50000/50000 [==============================] - 24s 482us/step - loss: 3.0508 - acc: 0.4034 - val_loss: 2.9925 - val_acc: 0.4244\n",
      "Epoch 12/50\n",
      "50000/50000 [==============================] - 32s 631us/step - loss: 3.0279 - acc: 0.4039 - val_loss: 2.9393 - val_acc: 0.4274\n",
      "Epoch 13/50\n",
      "50000/50000 [==============================] - 26s 524us/step - loss: 3.0334 - acc: 0.4075 - val_loss: 2.9695 - val_acc: 0.4341\n",
      "Epoch 14/50\n",
      "50000/50000 [==============================] - 25s 508us/step - loss: 3.0022 - acc: 0.4053 - val_loss: 2.9075 - val_acc: 0.4296\n",
      "Epoch 15/50\n",
      "50000/50000 [==============================] - 25s 496us/step - loss: 2.9551 - acc: 0.4108 - val_loss: 2.9146 - val_acc: 0.4178\n",
      "Epoch 16/50\n",
      "50000/50000 [==============================] - 25s 499us/step - loss: 2.9406 - acc: 0.4131 - val_loss: 2.8559 - val_acc: 0.4431\n",
      "Epoch 17/50\n",
      "50000/50000 [==============================] - 25s 502us/step - loss: 2.9301 - acc: 0.4095 - val_loss: 2.8382 - val_acc: 0.4390\n",
      "Epoch 18/50\n",
      "50000/50000 [==============================] - 26s 523us/step - loss: 2.9022 - acc: 0.4141 - val_loss: 2.8383 - val_acc: 0.4343\n",
      "Epoch 19/50\n",
      "50000/50000 [==============================] - 25s 493us/step - loss: 2.8742 - acc: 0.4152 - val_loss: 2.8065 - val_acc: 0.4392\n",
      "Epoch 20/50\n",
      "50000/50000 [==============================] - 24s 472us/step - loss: 2.8767 - acc: 0.4198 - val_loss: 2.8050 - val_acc: 0.4504\n",
      "Epoch 21/50\n",
      "50000/50000 [==============================] - 23s 460us/step - loss: 2.8582 - acc: 0.4206 - val_loss: 2.8157 - val_acc: 0.4445\n",
      "Epoch 22/50\n",
      "50000/50000 [==============================] - 24s 482us/step - loss: 2.8426 - acc: 0.4235 - val_loss: 2.7562 - val_acc: 0.4430\n",
      "Epoch 23/50\n",
      "50000/50000 [==============================] - 24s 486us/step - loss: 2.8112 - acc: 0.4206 - val_loss: 2.7645 - val_acc: 0.4381\n",
      "Epoch 24/50\n",
      "50000/50000 [==============================] - 25s 507us/step - loss: 2.7899 - acc: 0.4219 - val_loss: 2.6913 - val_acc: 0.4518\n",
      "Epoch 25/50\n",
      "50000/50000 [==============================] - 27s 545us/step - loss: 2.7647 - acc: 0.4245 - val_loss: 2.6839 - val_acc: 0.4435\n",
      "Epoch 26/50\n",
      "50000/50000 [==============================] - 31s 628us/step - loss: 2.7090 - acc: 0.4269 - val_loss: 2.5991 - val_acc: 0.4586\n",
      "Epoch 27/50\n",
      "50000/50000 [==============================] - 24s 490us/step - loss: 2.6945 - acc: 0.4275 - val_loss: 2.6431 - val_acc: 0.4505\n",
      "Epoch 28/50\n",
      "50000/50000 [==============================] - 25s 493us/step - loss: 2.6552 - acc: 0.4319 - val_loss: 2.5817 - val_acc: 0.4467\n",
      "Epoch 29/50\n",
      "50000/50000 [==============================] - 24s 477us/step - loss: 2.6167 - acc: 0.4325 - val_loss: 2.5251 - val_acc: 0.4606\n",
      "Epoch 30/50\n",
      "50000/50000 [==============================] - 28s 553us/step - loss: 2.5804 - acc: 0.4311 - val_loss: 2.4908 - val_acc: 0.4551\n",
      "Epoch 31/50\n",
      "50000/50000 [==============================] - 28s 555us/step - loss: 2.5323 - acc: 0.4336 - val_loss: 2.4887 - val_acc: 0.4432\n",
      "Epoch 32/50\n",
      "50000/50000 [==============================] - 24s 472us/step - loss: 2.5199 - acc: 0.4347 - val_loss: 2.4166 - val_acc: 0.4585210 \n",
      "Epoch 33/50\n",
      "50000/50000 [==============================] - 23s 451us/step - loss: 2.4811 - acc: 0.4343 - val_loss: 2.3963 - val_acc: 0.4603\n",
      "Epoch 34/50\n",
      "50000/50000 [==============================] - 25s 507us/step - loss: 2.4407 - acc: 0.4387 - val_loss: 2.3509 - val_acc: 0.4613\n",
      "Epoch 35/50\n",
      "50000/50000 [==============================] - 24s 485us/step - loss: 2.4037 - acc: 0.4357 - val_loss: 2.3291 - val_acc: 0.4585\n",
      "Epoch 36/50\n",
      "50000/50000 [==============================] - 23s 468us/step - loss: 2.3819 - acc: 0.4367 - val_loss: 2.2972 - val_acc: 0.4709\n",
      "Epoch 37/50\n",
      "50000/50000 [==============================] - 25s 491us/step - loss: 2.3523 - acc: 0.4407 - val_loss: 2.2864 - val_acc: 0.4610\n",
      "Epoch 38/50\n",
      "50000/50000 [==============================] - 23s 464us/step - loss: 2.3231 - acc: 0.4412 - val_loss: 2.2273 - val_acc: 0.4732\n",
      "Epoch 39/50\n"
     ]
    },
    {
     "name": "stdout",
     "output_type": "stream",
     "text": [
      "50000/50000 [==============================] - 32s 636us/step - loss: 2.2906 - acc: 0.4429 - val_loss: 2.2163 - val_acc: 0.4612\n",
      "Epoch 40/50\n",
      "50000/50000 [==============================] - 24s 471us/step - loss: 2.2769 - acc: 0.4415 - val_loss: 2.1926 - val_acc: 0.4747\n",
      "Epoch 41/50\n",
      "50000/50000 [==============================] - 24s 489us/step - loss: 2.2725 - acc: 0.4426 - val_loss: 2.1621 - val_acc: 0.4803\n",
      "Epoch 42/50\n",
      "50000/50000 [==============================] - 22s 448us/step - loss: 2.2377 - acc: 0.4474 - val_loss: 2.1463 - val_acc: 0.4756\n",
      "Epoch 43/50\n",
      "50000/50000 [==============================] - 24s 484us/step - loss: 2.2187 - acc: 0.4454 - val_loss: 2.1255 - val_acc: 0.4765\n",
      "Epoch 44/50\n",
      "50000/50000 [==============================] - 23s 455us/step - loss: 2.1996 - acc: 0.4459 - val_loss: 2.1188 - val_acc: 0.4794\n",
      "Epoch 45/50\n",
      "50000/50000 [==============================] - 26s 521us/step - loss: 2.1842 - acc: 0.4498 - val_loss: 2.1021 - val_acc: 0.4728\n",
      "Epoch 46/50\n",
      "50000/50000 [==============================] - 25s 499us/step - loss: 2.1758 - acc: 0.4506 - val_loss: 2.1133 - val_acc: 0.4729\n",
      "Epoch 47/50\n",
      "50000/50000 [==============================] - 24s 476us/step - loss: 2.1565 - acc: 0.4508 - val_loss: 2.0905 - val_acc: 0.4741\n",
      "Epoch 48/50\n",
      "50000/50000 [==============================] - 23s 463us/step - loss: 2.1437 - acc: 0.4519 - val_loss: 2.0752 - val_acc: 0.4786\n",
      "Epoch 49/50\n",
      "50000/50000 [==============================] - 23s 451us/step - loss: 2.1241 - acc: 0.4505 - val_loss: 2.0543 - val_acc: 0.4830\n",
      "Epoch 50/50\n",
      "50000/50000 [==============================] - 24s 483us/step - loss: 2.1204 - acc: 0.4513 - val_loss: 2.0610 - val_acc: 0.4688\n"
     ]
    }
   ],
   "source": [
    "results = {}\n",
    "\"\"\"Code Here\n",
    "撰寫你的訓練流程並將結果用 dictionary 紀錄\n",
    "\"\"\"\n",
    "results = {}\n",
    "for batch_size in BATCH_SIZE:\n",
    "    model = build_mlp(input_shape=x_train.shape[1:], output_units=10,\n",
    "                      num_neurons=[512, 256, 128],\n",
    "                      l1_alpha=0.001, l2_alpha=0.001, drp_ratio=0.2)\n",
    "    model.summary()\n",
    "    model.compile(optimizer='adam',\n",
    "                  loss=\"categorical_crossentropy\",\n",
    "                  metrics=[\"accuracy\"])\n",
    "\n",
    "    model.fit(x_train, y_train, \n",
    "              epochs=EPOCHS, \n",
    "              batch_size=batch_size, \n",
    "              validation_data=(x_test, y_test), \n",
    "              shuffle=True)\n",
    "    \n",
    "    # Collect results\n",
    "    train_loss = model.history.history[\"loss\"]\n",
    "    valid_loss = model.history.history[\"val_loss\"]\n",
    "    train_acc = model.history.history[\"acc\"]\n",
    "    valid_acc = model.history.history[\"val_acc\"]\n",
    "    \n",
    "    exp_name_tag = \"batch_size_\"+ str(batch_size)\n",
    "    results[exp_name_tag] = {'train-loss': train_loss,\n",
    "                             'valid-loss': valid_loss,\n",
    "                             'train-acc': train_acc,\n",
    "                             'valid-acc': valid_acc}"
   ]
  },
  {
   "cell_type": "code",
   "execution_count": 8,
   "metadata": {},
   "outputs": [
    {
     "data": {
      "image/png": "[encoded data removed]",
      "text/plain": [
       "<Figure size 576x432 with 1 Axes>"
      ]
     },
     "metadata": {
      "needs_background": "light"
     },
     "output_type": "display_data"
    },
    {
     "data": {
      "image/png": "[encoded data removed]",
      "text/plain": [
       "<Figure size 576x432 with 1 Axes>"
      ]
     },
     "metadata": {
      "needs_background": "light"
     },
     "output_type": "display_data"
    }
   ],
   "source": [
    "import matplotlib.pyplot as plt\n",
    "%matplotlib inline\n",
    "\"\"\"Code Here\n",
    "將結果繪出\n",
    "\"\"\"\n",
    "color_bar = [\"r\", \"g\", \"b\", \"y\", \"m\", \"k\"]\n",
    "\n",
    "plt.figure(figsize=(8,6))\n",
    "for i, cond in enumerate(results.keys()):\n",
    "    plt.plot(range(len(results[cond]['train-loss'])),results[cond]['train-loss'], '-', label=cond, color=color_bar[i])\n",
    "    plt.plot(range(len(results[cond]['valid-loss'])),results[cond]['valid-loss'], '--', label=cond, color=color_bar[i])\n",
    "plt.title(\"Loss\")\n",
    "plt.ylim([0, 5])\n",
    "plt.legend()\n",
    "plt.show()\n",
    "\n",
    "plt.figure(figsize=(8,6))\n",
    "for i, cond in enumerate(results.keys()):\n",
    "    plt.plot(range(len(results[cond]['train-acc'])),results[cond]['train-acc'], '-', label=cond, color=color_bar[i])\n",
    "    plt.plot(range(len(results[cond]['valid-acc'])),results[cond]['valid-acc'], '--', label=cond, color=color_bar[i])\n",
    "plt.title(\"Accuracy\")\n",
    "plt.legend()\n",
    "plt.show()\n"
   ]
  },
  {
   "cell_type": "code",
   "execution_count": null,
   "metadata": {},
   "outputs": [],
   "source": []
  }
 ],
 "metadata": {
  "kernelspec": {
   "display_name": "Python 3",
   "language": "python",
   "name": "python3"
  },
  "language_info": {
   "codemirror_mode": {
    "name": "ipython",
    "version": 3
   },
   "file_extension": ".py",
   "mimetype": "text/x-python",
   "name": "python",
   "nbconvert_exporter": "python",
   "pygments_lexer": "ipython3",
   "version": "3.7.1"
  }
 },
 "nbformat": 4,
 "nbformat_minor": 2
}
