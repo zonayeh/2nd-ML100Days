{
 "cells": [
  {
   "cell_type": "markdown",
   "metadata": {},
   "source": [
    "## Work\n",
    "1. 請嘗試寫一個 callback 用來記錄各類別在訓練過程中，對驗證集的 True Positive 與 True Negative"
   ]
  },
  {
   "cell_type": "code",
   "execution_count": 1,
   "metadata": {},
   "outputs": [
    {
     "name": "stderr",
     "output_type": "stream",
     "text": [
      "Using TensorFlow backend.\n"
     ]
    }
   ],
   "source": [
    "import os\n",
    "import keras\n",
    "\n",
    "# Disable GPU\n",
    "os.environ[\"CUDA_VISIBLE_DEVICES\"] = \"\""
   ]
  },
  {
   "cell_type": "code",
   "execution_count": 2,
   "metadata": {},
   "outputs": [],
   "source": [
    "train, test = keras.datasets.cifar10.load_data()"
   ]
  },
  {
   "cell_type": "code",
   "execution_count": 3,
   "metadata": {},
   "outputs": [],
   "source": [
    "## 資料前處理\n",
    "def preproc_x(x, flatten=True):\n",
    "    x = x / 255.\n",
    "    if flatten:\n",
    "        x = x.reshape((len(x), -1))\n",
    "    return x\n",
    "\n",
    "def preproc_y(y, num_classes=10):\n",
    "    if y.shape[-1] == 1:\n",
    "        y = keras.utils.to_categorical(y, num_classes)\n",
    "    return y    "
   ]
  },
  {
   "cell_type": "code",
   "execution_count": 5,
   "metadata": {},
   "outputs": [],
   "source": [
    "x_train, y_train = train\n",
    "x_test, y_test = test\n",
    "\n",
    "# Preproc the inputs\n",
    "x_train = preproc_x(x_train)\n",
    "x_test = preproc_x(x_test)\n",
    "\n",
    "# Preprc the outputs\n",
    "y_train = preproc_y(y_train)\n",
    "y_test = preproc_y(y_test)"
   ]
  },
  {
   "cell_type": "code",
   "execution_count": 6,
   "metadata": {},
   "outputs": [],
   "source": [
    "from keras.layers import BatchNormalization\n",
    "\n",
    "#建立神經網路\n",
    "def build_mlp(input_shape, output_units=10, num_neurons=[256, 256, 256]):\n",
    "    input_layer = keras.layers.Input(input_shape)\n",
    "    \n",
    "    for i, n_units in enumerate(num_neurons):\n",
    "        if i == 0:\n",
    "            x = keras.layers.Dense(units=n_units, \n",
    "                                   activation=\"relu\", \n",
    "                                   name=\"hidden_layer\"+str(i+1))(input_layer)\n",
    "            x = BatchNormalization()(x)\n",
    "        else:\n",
    "            x = keras.layers.Dense(units=n_units, \n",
    "                                   activation=\"relu\", \n",
    "                                   name=\"hidden_layer\"+str(i+1))(x)\n",
    "            x = BatchNormalization()(x)\n",
    "    \n",
    "    out = keras.layers.Dense(units=output_units, activation=\"softmax\", name=\"output\")(x)\n",
    "    \n",
    "    model = keras.models.Model(inputs=[input_layer], outputs=[out])\n",
    "    return model"
   ]
  },
  {
   "cell_type": "code",
   "execution_count": 7,
   "metadata": {},
   "outputs": [],
   "source": [
    "## 超參數設定\n",
    "LEARNING_RATE = 1e-3\n",
    "EPOCHS = 25\n",
    "BATCH_SIZE = 1024\n",
    "MOMENTUM = 0.95"
   ]
  },
  {
   "cell_type": "code",
   "execution_count": 8,
   "metadata": {},
   "outputs": [],
   "source": [
    "# 載入 Callbacks\n",
    "from keras.callbacks import Callback\n",
    "import numpy as np\n",
    "\n",
    "# Record_fp_tp\n",
    "class Record_tp_tn(Callback):\n",
    "    \"\"\"\n",
    "    撰寫一個紀錄 ture positive 與 true negative 數量的 callbacks    \n",
    "    \"\"\"\n",
    "    def on_train_begin(self, epoch, logs = {}):\n",
    "        logs = logs or {}\n",
    "        record_items = [\"val_tp\",\"val_tn\"]\n",
    "        for i in record_items:\n",
    "            if i not in self.params['metrics']:\n",
    "                self.params['metrics'].append(i)\n",
    "    \n",
    "    def on_epoch_end(self, epoch, logs = {}, thres=0.5):\n",
    "        logs = logs or {}\n",
    "        y_true = self.validation_data[1].argmax(axis = 1)\n",
    "        y_pred = self.model.predict(self.validation_data[0])\n",
    "        y_pred = (y_pred[:, 1] >= thres) * 1\n",
    "        \n",
    "        logs[\"val_tp\"] = np.sum(np.logical_and(y_pred == 1, y_true == 1))\n",
    "        logs[\"val_tn\"] = np.sum(np.logical_and(y_pred == 0, y_true == 0))   \n",
    "  \n",
    "rec_tptn = Record_tp_tn()"
   ]
  },
  {
   "cell_type": "code",
   "execution_count": 9,
   "metadata": {
    "scrolled": true
   },
   "outputs": [
    {
     "name": "stdout",
     "output_type": "stream",
     "text": [
      "WARNING:tensorflow:From C:\\Anaconda3\\lib\\site-packages\\tensorflow\\python\\framework\\op_def_library.py:263: colocate_with (from tensorflow.python.framework.ops) is deprecated and will be removed in a future version.\n",
      "Instructions for updating:\n",
      "Colocations handled automatically by placer.\n",
      "_________________________________________________________________\n",
      "Layer (type)                 Output Shape              Param #   \n",
      "=================================================================\n",
      "input_1 (InputLayer)         (None, 3072)              0         \n",
      "_________________________________________________________________\n",
      "hidden_layer1 (Dense)        (None, 256)               786688    \n",
      "_________________________________________________________________\n",
      "batch_normalization_1 (Batch (None, 256)               1024      \n",
      "_________________________________________________________________\n",
      "hidden_layer2 (Dense)        (None, 256)               65792     \n",
      "_________________________________________________________________\n",
      "batch_normalization_2 (Batch (None, 256)               1024      \n",
      "_________________________________________________________________\n",
      "hidden_layer3 (Dense)        (None, 256)               65792     \n",
      "_________________________________________________________________\n",
      "batch_normalization_3 (Batch (None, 256)               1024      \n",
      "_________________________________________________________________\n",
      "output (Dense)               (None, 10)                2570      \n",
      "=================================================================\n",
      "Total params: 923,914\n",
      "Trainable params: 922,378\n",
      "Non-trainable params: 1,536\n",
      "_________________________________________________________________\n",
      "WARNING:tensorflow:From C:\\Anaconda3\\lib\\site-packages\\tensorflow\\python\\ops\\math_ops.py:3066: to_int32 (from tensorflow.python.ops.math_ops) is deprecated and will be removed in a future version.\n",
      "Instructions for updating:\n",
      "Use tf.cast instead.\n",
      "Train on 50000 samples, validate on 10000 samples\n",
      "Epoch 1/25\n",
      "50000/50000 [==============================] - 15s 304us/step - loss: 2.2367 - acc: 0.2649 - val_loss: 2.2002 - val_acc: 0.2876\n",
      "Epoch 2/25\n",
      "50000/50000 [==============================] - 12s 230us/step - loss: 1.7609 - acc: 0.3854 - val_loss: 1.8099 - val_acc: 0.3682\n",
      "Epoch 3/25\n",
      "50000/50000 [==============================] - 9s 178us/step - loss: 1.6342 - acc: 0.4277 - val_loss: 1.7173 - val_acc: 0.4020\n",
      "Epoch 4/25\n",
      "50000/50000 [==============================] - 14s 279us/step - loss: 1.5659 - acc: 0.4519 - val_loss: 1.6552 - val_acc: 0.4247\n",
      "Epoch 5/25\n",
      "50000/50000 [==============================] - 19s 387us/step - loss: 1.5141 - acc: 0.4685 - val_loss: 1.6149 - val_acc: 0.4370\n",
      "Epoch 6/25\n",
      "50000/50000 [==============================] - 12s 234us/step - loss: 1.4712 - acc: 0.4828 - val_loss: 1.5852 - val_acc: 0.4466\n",
      "Epoch 7/25\n",
      "50000/50000 [==============================] - 15s 294us/step - loss: 1.4336 - acc: 0.4978 - val_loss: 1.5729 - val_acc: 0.4524\n",
      "Epoch 8/25\n",
      "50000/50000 [==============================] - 13s 252us/step - loss: 1.4023 - acc: 0.5093 - val_loss: 1.5467 - val_acc: 0.4586\n",
      "Epoch 9/25\n",
      "50000/50000 [==============================] - 14s 278us/step - loss: 1.3726 - acc: 0.5206 - val_loss: 1.5225 - val_acc: 0.4648\n",
      "Epoch 10/25\n",
      "50000/50000 [==============================] - 10s 201us/step - loss: 1.3460 - acc: 0.5316 - val_loss: 1.5200 - val_acc: 0.4646\n",
      "Epoch 11/25\n",
      "50000/50000 [==============================] - 11s 215us/step - loss: 1.3195 - acc: 0.5409 - val_loss: 1.5041 - val_acc: 0.4705\n",
      "Epoch 12/25\n",
      "50000/50000 [==============================] - 9s 185us/step - loss: 1.2959 - acc: 0.5492 - val_loss: 1.4940 - val_acc: 0.4767\n",
      "Epoch 13/25\n",
      "50000/50000 [==============================] - 9s 190us/step - loss: 1.2741 - acc: 0.5572 - val_loss: 1.4917 - val_acc: 0.4735\n",
      "Epoch 14/25\n",
      "50000/50000 [==============================] - 10s 191us/step - loss: 1.2526 - acc: 0.5639 - val_loss: 1.4871 - val_acc: 0.4769\n",
      "Epoch 15/25\n",
      "50000/50000 [==============================] - 10s 199us/step - loss: 1.2307 - acc: 0.5732 - val_loss: 1.4731 - val_acc: 0.4815\n",
      "Epoch 16/25\n",
      "50000/50000 [==============================] - 10s 192us/step - loss: 1.2107 - acc: 0.5804 - val_loss: 1.4716 - val_acc: 0.4862\n",
      "Epoch 17/25\n",
      "50000/50000 [==============================] - 10s 192us/step - loss: 1.1905 - acc: 0.5885 - val_loss: 1.4632 - val_acc: 0.4871\n",
      "Epoch 18/25\n",
      "50000/50000 [==============================] - 10s 198us/step - loss: 1.1720 - acc: 0.5944 - val_loss: 1.4622 - val_acc: 0.4864\n",
      "Epoch 19/25\n",
      "50000/50000 [==============================] - 10s 195us/step - loss: 1.1541 - acc: 0.6021 - val_loss: 1.4589 - val_acc: 0.4876\n",
      "Epoch 20/25\n",
      "50000/50000 [==============================] - 10s 192us/step - loss: 1.1353 - acc: 0.6094 - val_loss: 1.4527 - val_acc: 0.4931\n",
      "Epoch 21/25\n",
      "50000/50000 [==============================] - 10s 200us/step - loss: 1.1168 - acc: 0.6177 - val_loss: 1.4559 - val_acc: 0.4881\n",
      "Epoch 22/25\n",
      "50000/50000 [==============================] - 10s 197us/step - loss: 1.1004 - acc: 0.6210 - val_loss: 1.4531 - val_acc: 0.4899\n",
      "Epoch 23/25\n",
      "50000/50000 [==============================] - 10s 193us/step - loss: 1.0848 - acc: 0.6304 - val_loss: 1.4578 - val_acc: 0.4931\n",
      "Epoch 24/25\n",
      "50000/50000 [==============================] - 10s 207us/step - loss: 1.0669 - acc: 0.6369 - val_loss: 1.4480 - val_acc: 0.4906\n",
      "Epoch 25/25\n",
      "50000/50000 [==============================] - 10s 196us/step - loss: 1.0504 - acc: 0.6424 - val_loss: 1.4528 - val_acc: 0.4948\n"
     ]
    }
   ],
   "source": [
    "model = build_mlp(input_shape=x_train.shape[1:])\n",
    "model.summary()\n",
    "optimizer = keras.optimizers.SGD(lr=LEARNING_RATE, nesterov=True, momentum=MOMENTUM)\n",
    "model.compile(loss=\"categorical_crossentropy\", metrics=[\"accuracy\"], optimizer=optimizer)\n",
    "\n",
    "\"\"\"Code Here\n",
    "將 callbacks 放入模型訓練流程中\n",
    "\"\"\"\n",
    "#model.fit()\n",
    "model.fit(x_train, y_train, \n",
    "          epochs=EPOCHS, \n",
    "          batch_size=BATCH_SIZE, \n",
    "          validation_data=(x_test, y_test), \n",
    "          shuffle=True,\n",
    "          callbacks=[rec_tptn]\n",
    "         )\n",
    "\n",
    "# Collect results\n",
    "train_loss = model.history.history[\"loss\"]\n",
    "valid_loss = model.history.history[\"val_loss\"]\n",
    "train_acc = model.history.history[\"acc\"]\n",
    "valid_acc = model.history.history[\"val_acc\"]\n",
    "\n",
    "\"\"\"Code Here\n",
    "將 tp/tn 從訓練完的模型中取出\n",
    "\"\"\"\n",
    "#valid_tp = \n",
    "#valid_tn = \n",
    "valid_tp = model.history.history['val_tp']\n",
    "valid_tn = model.history.history['val_tn']"
   ]
  },
  {
   "cell_type": "code",
   "execution_count": 10,
   "metadata": {},
   "outputs": [
    {
     "data": {
      "image/png": "[encoded data removed]",
      "text/plain": [
       "<Figure size 432x288 with 1 Axes>"
      ]
     },
     "metadata": {
      "needs_background": "light"
     },
     "output_type": "display_data"
    },
    {
     "data": {
      "image/png": "[encoded data removed]",
      "text/plain": [
       "<Figure size 432x288 with 1 Axes>"
      ]
     },
     "metadata": {
      "needs_background": "light"
     },
     "output_type": "display_data"
    },
    {
     "data": {
      "image/png": "[encoded data removed]",
      "text/plain": [
       "<Figure size 432x288 with 1 Axes>"
      ]
     },
     "metadata": {
      "needs_background": "light"
     },
     "output_type": "display_data"
    }
   ],
   "source": [
    "import matplotlib.pyplot as plt\n",
    "%matplotlib inline\n",
    "\n",
    "plt.plot(range(len(train_loss)), train_loss, label=\"train loss\")\n",
    "plt.plot(range(len(valid_loss)), valid_loss, label=\"valid loss\")\n",
    "plt.legend()\n",
    "plt.title(\"Loss\")\n",
    "plt.show()\n",
    "\n",
    "plt.plot(range(len(train_acc)), train_acc, label=\"train accuracy\")\n",
    "plt.plot(range(len(valid_acc)), valid_acc, label=\"valid accuracy\")\n",
    "plt.legend()\n",
    "plt.title(\"Accuracy\")\n",
    "plt.show()\n",
    "\n",
    "plt.plot(range(len(valid_tp)), valid_tp, label=\"valid tp\", color=\"navy\")\n",
    "plt.plot(range(len(valid_tn)), valid_tn, label=\"valid tn\", color=\"red\")\n",
    "plt.legend()\n",
    "plt.title(\"True positives and True Negatives\")\n",
    "plt.show()\n"
   ]
  },
  {
   "cell_type": "code",
   "execution_count": null,
   "metadata": {},
   "outputs": [],
   "source": []
  }
 ],
 "metadata": {
  "kernelspec": {
   "display_name": "Python 3",
   "language": "python",
   "name": "python3"
  },
  "language_info": {
   "codemirror_mode": {
    "name": "ipython",
    "version": 3
   },
   "file_extension": ".py",
   "mimetype": "text/x-python",
   "name": "python",
   "nbconvert_exporter": "python",
   "pygments_lexer": "ipython3",
   "version": "3.7.1"
  }
 },
 "nbformat": 4,
 "nbformat_minor": 2
}
