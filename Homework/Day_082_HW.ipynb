{
 "cells": [
  {
   "cell_type": "markdown",
   "metadata": {},
   "source": [
    "## Work\n",
    "1. 請比較使用不同層數以及不同 Dropout rate 對訓練的效果\n",
    "2. 將 optimizer 改成使用 Adam 並加上適當的 dropout rate 檢視結果"
   ]
  },
  {
   "cell_type": "code",
   "execution_count": 1,
   "metadata": {},
   "outputs": [
    {
     "name": "stderr",
     "output_type": "stream",
     "text": [
      "Using TensorFlow backend.\n"
     ]
    }
   ],
   "source": [
    "import os\n",
    "import keras\n",
    "import itertools\n",
    "# Disable GPU\n",
    "os.environ[\"CUDA_VISIBLE_DEVICES\"] = \"0\""
   ]
  },
  {
   "cell_type": "code",
   "execution_count": 2,
   "metadata": {},
   "outputs": [],
   "source": [
    "train, test = keras.datasets.cifar10.load_data()"
   ]
  },
  {
   "cell_type": "code",
   "execution_count": 3,
   "metadata": {},
   "outputs": [],
   "source": [
    "## 資料前處理\n",
    "def preproc_x(x, flatten=True):\n",
    "    x = x / 255.\n",
    "    if flatten:\n",
    "        x = x.reshape((len(x), -1))\n",
    "    return x\n",
    "\n",
    "def preproc_y(y, num_classes=10):\n",
    "    if y.shape[-1] == 1:\n",
    "        y = keras.utils.to_categorical(y, num_classes)\n",
    "    return y    "
   ]
  },
  {
   "cell_type": "code",
   "execution_count": 4,
   "metadata": {},
   "outputs": [],
   "source": [
    "x_train, y_train = train\n",
    "x_test, y_test = test\n",
    "\n",
    "# Preproc the inputs\n",
    "x_train = preproc_x(x_train)\n",
    "x_test = preproc_x(x_test)\n",
    "\n",
    "# Preprc the outputs\n",
    "y_train = preproc_y(y_train)\n",
    "y_test = preproc_y(y_test)"
   ]
  },
  {
   "cell_type": "code",
   "execution_count": 5,
   "metadata": {},
   "outputs": [],
   "source": [
    "from keras.layers import Dropout\n",
    "\n",
    "#建立神經網路\n",
    "def build_mlp(input_shape, output_units=10, num_neurons=[512, 256, 64], drp_ratio=0.2):\n",
    "    input_layer = keras.layers.Input(input_shape)\n",
    "\n",
    "    for i, n_units in enumerate(num_neurons):\n",
    "        if i == 0:\n",
    "            x = keras.layers.Dense(units=n_units, \n",
    "                                   activation=\"relu\", \n",
    "                                   name=\"hidden_layer\"+str(i+1))(input_layer)\n",
    "            x = Dropout(drp_ratio)(x)\n",
    "        else:\n",
    "            x = keras.layers.Dense(units=n_units, \n",
    "                                   activation=\"relu\", \n",
    "                                   name=\"hidden_layer\"+str(i+1))(x)\n",
    "            x = Dropout(drp_ratio)(x)\n",
    "    \n",
    "    out = keras.layers.Dense(units=output_units, activation=\"softmax\", name=\"output\")(x)\n",
    "    \n",
    "    model = keras.models.Model(inputs=[input_layer], outputs=[out])\n",
    "    return model"
   ]
  },
  {
   "cell_type": "code",
   "execution_count": 6,
   "metadata": {},
   "outputs": [],
   "source": [
    "\"\"\"Code Here\n",
    "設定超參數\n",
    "\"\"\"\n",
    "LEARNING_RATE = 0.001\n",
    "EPOCHS = 20\n",
    "BATCH_SIZE = 128\n",
    "MOMENTUM = 0.95\n",
    "Dropout_EXP = 0.2"
   ]
  },
  {
   "cell_type": "code",
   "execution_count": 7,
   "metadata": {
    "scrolled": true
   },
   "outputs": [
    {
     "name": "stdout",
     "output_type": "stream",
     "text": [
      "WARNING:tensorflow:From C:\\Anaconda3\\lib\\site-packages\\tensorflow\\python\\framework\\op_def_library.py:263: colocate_with (from tensorflow.python.framework.ops) is deprecated and will be removed in a future version.\n",
      "Instructions for updating:\n",
      "Colocations handled automatically by placer.\n",
      "WARNING:tensorflow:From C:\\Anaconda3\\lib\\site-packages\\keras\\backend\\tensorflow_backend.py:3445: calling dropout (from tensorflow.python.ops.nn_ops) with keep_prob is deprecated and will be removed in a future version.\n",
      "Instructions for updating:\n",
      "Please use `rate` instead of `keep_prob`. Rate should be set to `rate = 1 - keep_prob`.\n",
      "_________________________________________________________________\n",
      "Layer (type)                 Output Shape              Param #   \n",
      "=================================================================\n",
      "input_1 (InputLayer)         (None, 3072)              0         \n",
      "_________________________________________________________________\n",
      "hidden_layer1 (Dense)        (None, 512)               1573376   \n",
      "_________________________________________________________________\n",
      "dropout_1 (Dropout)          (None, 512)               0         \n",
      "_________________________________________________________________\n",
      "hidden_layer2 (Dense)        (None, 256)               131328    \n",
      "_________________________________________________________________\n",
      "dropout_2 (Dropout)          (None, 256)               0         \n",
      "_________________________________________________________________\n",
      "hidden_layer3 (Dense)        (None, 64)                16448     \n",
      "_________________________________________________________________\n",
      "dropout_3 (Dropout)          (None, 64)                0         \n",
      "_________________________________________________________________\n",
      "output (Dense)               (None, 10)                650       \n",
      "=================================================================\n",
      "Total params: 1,721,802\n",
      "Trainable params: 1,721,802\n",
      "Non-trainable params: 0\n",
      "_________________________________________________________________\n",
      "WARNING:tensorflow:From C:\\Anaconda3\\lib\\site-packages\\tensorflow\\python\\ops\\math_ops.py:3066: to_int32 (from tensorflow.python.ops.math_ops) is deprecated and will be removed in a future version.\n",
      "Instructions for updating:\n",
      "Use tf.cast instead.\n",
      "Train on 50000 samples, validate on 10000 samples\n",
      "Epoch 1/20\n",
      "50000/50000 [==============================] - 91s 2ms/step - loss: 2.0501 - acc: 0.2404 - val_loss: 1.8175 - val_acc: 0.3471\n",
      "Epoch 2/20\n",
      "50000/50000 [==============================] - 81s 2ms/step - loss: 1.8766 - acc: 0.3196 - val_loss: 1.7421 - val_acc: 0.3803\n",
      "Epoch 3/20\n",
      "50000/50000 [==============================] - 83s 2ms/step - loss: 1.8111 - acc: 0.3449 - val_loss: 1.7204 - val_acc: 0.3890\n",
      "Epoch 4/20\n",
      "50000/50000 [==============================] - 84s 2ms/step - loss: 1.7766 - acc: 0.3558 - val_loss: 1.6869 - val_acc: 0.4026\n",
      "Epoch 5/20\n",
      "50000/50000 [==============================] - 84s 2ms/step - loss: 1.7535 - acc: 0.3671 - val_loss: 1.6733 - val_acc: 0.4078\n",
      "Epoch 6/20\n",
      "50000/50000 [==============================] - 84s 2ms/step - loss: 1.7225 - acc: 0.3773 - val_loss: 1.6683 - val_acc: 0.4072\n",
      "Epoch 7/20\n",
      "50000/50000 [==============================] - 84s 2ms/step - loss: 1.6956 - acc: 0.3879 - val_loss: 1.6077 - val_acc: 0.4315\n",
      "Epoch 8/20\n",
      "50000/50000 [==============================] - 85s 2ms/step - loss: 1.6873 - acc: 0.3923 - val_loss: 1.6167 - val_acc: 0.4311\n",
      "Epoch 9/20\n",
      "50000/50000 [==============================] - 85s 2ms/step - loss: 1.6744 - acc: 0.3962 - val_loss: 1.5925 - val_acc: 0.4356\n",
      "Epoch 10/20\n",
      "50000/50000 [==============================] - 89s 2ms/step - loss: 1.6544 - acc: 0.4038 - val_loss: 1.5729 - val_acc: 0.4402\n",
      "Epoch 11/20\n",
      "50000/50000 [==============================] - 83s 2ms/step - loss: 1.6493 - acc: 0.4080 - val_loss: 1.5672 - val_acc: 0.4438\n",
      "Epoch 12/20\n",
      "50000/50000 [==============================] - 81s 2ms/step - loss: 1.6342 - acc: 0.4113 - val_loss: 1.5947 - val_acc: 0.4362\n",
      "Epoch 13/20\n",
      "50000/50000 [==============================] - 81s 2ms/step - loss: 1.6308 - acc: 0.4122 - val_loss: 1.5567 - val_acc: 0.4546\n",
      "Epoch 14/20\n",
      "50000/50000 [==============================] - 81s 2ms/step - loss: 1.6253 - acc: 0.4158 - val_loss: 1.5609 - val_acc: 0.4445\n",
      "Epoch 15/20\n",
      "50000/50000 [==============================] - 81s 2ms/step - loss: 1.6036 - acc: 0.4259 - val_loss: 1.5360 - val_acc: 0.4556\n",
      "Epoch 16/20\n",
      "50000/50000 [==============================] - 80s 2ms/step - loss: 1.6037 - acc: 0.4247 - val_loss: 1.5480 - val_acc: 0.4455\n",
      "Epoch 17/20\n",
      "50000/50000 [==============================] - 87s 2ms/step - loss: 1.5969 - acc: 0.4286 - val_loss: 1.5409 - val_acc: 0.4503\n",
      "Epoch 18/20\n",
      "50000/50000 [==============================] - 86s 2ms/step - loss: 1.5840 - acc: 0.4304 - val_loss: 1.5462 - val_acc: 0.4570\n",
      "Epoch 19/20\n",
      "50000/50000 [==============================] - 84s 2ms/step - loss: 1.5826 - acc: 0.4325 - val_loss: 1.5297 - val_acc: 0.4573\n",
      "Epoch 20/20\n",
      "50000/50000 [==============================] - 86s 2ms/step - loss: 1.5774 - acc: 0.4347 - val_loss: 1.5187 - val_acc: 0.4531\n"
     ]
    }
   ],
   "source": [
    "results = {}\n",
    "\"\"\"Code Here\n",
    "撰寫你的訓練流程並將結果用 dictionary 紀錄\n",
    "\"\"\"\n",
    "model = build_mlp(input_shape=x_train.shape[1:], drp_ratio=Dropout_EXP)\n",
    "\n",
    "model.summary()\n",
    "optimizer = keras.optimizers.Adam(lr=LEARNING_RATE)\n",
    "model.compile(loss=\"categorical_crossentropy\", metrics=[\"accuracy\"], optimizer=optimizer)\n",
    "\n",
    "model.fit(x_train, y_train, \n",
    "          epochs=EPOCHS, \n",
    "          batch_size=BATCH_SIZE, \n",
    "          validation_data=(x_test, y_test), \n",
    "          shuffle=True)\n",
    "\n",
    "# Collect results\n",
    "train_loss = model.history.history[\"loss\"]\n",
    "valid_loss = model.history.history[\"val_loss\"]\n",
    "train_acc = model.history.history[\"acc\"]\n",
    "valid_acc = model.history.history[\"val_acc\"]"
   ]
  },
  {
   "cell_type": "code",
   "execution_count": 8,
   "metadata": {},
   "outputs": [
    {
     "data": {
      "image/png": "[encoded data removed]",
      "text/plain": [
       "<Figure size 432x288 with 1 Axes>"
      ]
     },
     "metadata": {
      "needs_background": "light"
     },
     "output_type": "display_data"
    },
    {
     "data": {
      "image/png": "[encoded data removed]",
      "text/plain": [
       "<Figure size 432x288 with 1 Axes>"
      ]
     },
     "metadata": {
      "needs_background": "light"
     },
     "output_type": "display_data"
    }
   ],
   "source": [
    "import matplotlib.pyplot as plt\n",
    "%matplotlib inline\n",
    "\"\"\"Code Here\n",
    "將結果繪出\n",
    "\"\"\"\n",
    "plt.plot(range(len(train_loss)), train_loss, label=\"train loss\")\n",
    "plt.plot(range(len(valid_loss)), valid_loss, label=\"valid loss\")\n",
    "plt.legend()\n",
    "plt.title(\"Loss\")\n",
    "plt.show()\n",
    "\n",
    "plt.plot(range(len(train_acc)), train_acc, label=\"train accuracy\")\n",
    "plt.plot(range(len(valid_acc)), valid_acc, label=\"valid accuracy\")\n",
    "plt.legend()\n",
    "plt.title(\"Accuracy\")\n",
    "plt.show()"
   ]
  },
  {
   "cell_type": "code",
   "execution_count": null,
   "metadata": {},
   "outputs": [],
   "source": []
  }
 ],
 "metadata": {
  "kernelspec": {
   "display_name": "Python 3",
   "language": "python",
   "name": "python3"
  },
  "language_info": {
   "codemirror_mode": {
    "name": "ipython",
    "version": 3
   },
   "file_extension": ".py",
   "mimetype": "text/x-python",
   "name": "python",
   "nbconvert_exporter": "python",
   "pygments_lexer": "ipython3",
   "version": "3.7.1"
  }
 },
 "nbformat": 4,
 "nbformat_minor": 2
}
